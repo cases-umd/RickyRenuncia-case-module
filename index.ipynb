{
 "cells": [
  {
   "cell_type": "markdown",
   "source": [
    "# #RickyRenuncia Project\n",
    "### Subtitle\n",
    "* Contributors: Marisol Ramos, Irmarie Fraticelli-Rodríguez, Joel Blanco-Rivera & Eduardo Beltran Feliciano\n",
    "* Source Available: https://github.com/RickyRenunciaProject/RikcyRenuncia-case-module\n",
    "* License: [Creative Commons - Attribute 4.0 Intl](https://creativecommons.org/licenses/by/4.0/)\n",
    "* [Lesson Plan for Instructors](./lesson-plan.ipynb)\n",
    "\n",
    "## Introduction\n",
    "\n",
    "During the summer 2019\n",
    "\n",
    "<img src=\"https://libarchivist.com/rrp/rickyrenuncia/media/20190716_210901.jpg\" alt=\"Renamed Fortaleza street to Corrupt Street\" title=\"Calle del Corrupto\" height=\"200px\" width=\"auto\">\n",
    "\n",
    "### Further Information\n",
    "Learn more about this project at the [website](http://researchwebsite.example.org)\n",
    "\n",
    "## Objectives\n",
    "Please state the project's research objectives for these computational treatments.\n",
    "\n",
    "## Learning Goals\n",
    "* Computational Practices:\n",
    " * [Collecting Data](#collecting_data)\n",
    " * [Modeling Data](#modeling_Data)\n",
    "* Archival Practices:\n",
    " * ??"
   ],
   "metadata": {}
  },
  {
   "cell_type": "markdown",
   "source": [
    "# Software and Tools\n",
    "Please discuss the programming language, software libraries, and other tools used in these notebooks:\n",
    "\n",
    "* [Tool 1](http://example.org/tool1)\n",
    "* [Software Library 2](http://example.org/tool1)\n",
    "\n",
    "If there are special instructions for acquiring any of the necessary tools, please explain those steps here.\n",
    "\n",
    "1. Go to the Tool1 website.\n",
    "2. Create an account. (required)\n",
    "3. Go to the \"Download\" page and follow instructions.\n"
   ],
   "metadata": {}
  },
  {
   "cell_type": "markdown",
   "source": [
    "# Acquiring or Accessing the Data\n",
    "Please write instructions here that show users how to obtain the research data, or let them know that it is packaged with your notebooks in Github. Does the student or user need additional permissions or accounts in order to obtain the data. If the data is downloaded separately, how should they save the data locally.\n",
    "In some cases the data may be available from a web API. If so, then what steps are needed in order to access that API?\n"
   ],
   "metadata": {}
  },
  {
   "cell_type": "markdown",
   "source": [
    "# Notebooks\n",
    "1. [Capturing Multimedia and Tweets with RDF](./mcrasswalk.ipynb)\n",
    "1. [Twarc Tutorial](./twarc.ipynb)\n",
    "1. [Evaluating Tweets](./Evaluating_Content.ipynb) \n",
    "1. [Identifying Popular Multimedia](./multimedia_popularity.ipynb) **TODO, Code is ready but is not presentable**"
   ],
   "metadata": {}
  },
  {
   "cell_type": "code",
   "execution_count": null,
   "source": [],
   "outputs": [],
   "metadata": {}
  }
 ],
 "metadata": {
  "cases_info": {
   "computational_practices": [
    "cas:dp_collecting_data",
    "cas:dp_creating_data"
   ]
  },
  "kernelspec": {
   "display_name": "Python 3",
   "language": "python",
   "name": "python3"
  },
  "language_info": {
   "codemirror_mode": {
    "name": "ipython",
    "version": 3
   },
   "file_extension": ".py",
   "mimetype": "text/x-python",
   "name": "python",
   "nbconvert_exporter": "python",
   "pygments_lexer": "ipython3",
   "version": "3.8.10"
  }
 },
 "nbformat": 4,
 "nbformat_minor": 4
}