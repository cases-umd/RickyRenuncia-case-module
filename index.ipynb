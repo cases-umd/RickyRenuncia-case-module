{
 "cells": [
  {
   "cell_type": "markdown",
   "metadata": {},
   "source": [
    "# #RickyRenuncia Project\n",
    "\n",
    "The notebooks in this case module summarize part of the experiences the team of the [#RickyRenuncia Project](https://libarchivist.com/rrp/rickyrenuncia/) while working with Twitter data.\n",
    "\n",
    "* Contributors: Marisol Ramos, Irmarie Fraticelli-Rodríguez, Joel Blanco-Rivera & Eduardo Beltran Feliciano\n",
    "* Source Available: https://github.com/RickyRenunciaProject/RikcyRenuncia-case-module\n",
    "* License: [Creative Commons - Attribute 4.0 Intl](https://creativecommons.org/licenses/by/4.0/)\n",
    "* [Lesson Plan for Instructors](./lesson-plan.ipynb)\n",
    "\n",
    "## Introduction\n",
    "\n",
    "During the summer 2019\n",
    "\n",
    "<img \n",
    "     src=\"https://libarchivist.com/rrp/rickyrenuncia/media/20190716_210901.jpg\" \n",
    "     alt=\"Renamed Fortaleza street to Corrupt Street\" \n",
    "     title=\"Calle del Corrupto\" \n",
    "     style=\"border-radius: 1.5em;max-width: 50em;\"\n",
    "/>\n",
    "\n",
    "### Further Information\n",
    "Learn more about this project at the [website](http://researchwebsite.example.org)\n",
    "\n",
    "## Objectives\n",
    "\n",
    "- Utilize RDF schemas to represent data from social media.\n",
    "- Familiarize with Twarc tool.\n",
    "- Visualize GeoJSON data.\n",
    "- See the potential of Web Interfaces curatorial purposes.\n",
    "- Generate visualizations from popularity indexes.\n",
    "- Introduction to SQL queries.\n",
    "\n",
    "## Learning Goals\n",
    "\n",
    "* **Computational Practices**:\n",
    "  * Utilize third party tools to acquire data.\n",
    "  * See the potential of Web Interfaces curatorial purposes.\n",
    "  * Generate visualizations from popularity indexes.\n",
    "* **Archival Practices**:\n",
    "  * Utilize RDF schemas to represent data from social media.\n",
    "  * Familiarize with Twarc tool."
   ]
  },
  {
   "cell_type": "markdown",
   "metadata": {},
   "source": [
    "# Software and Tools\n",
    "\n",
    "As part of this \n",
    "\n",
    "* [Twarc](https://pypi.org/project/twarc/)\n",
    "* [tweet-requester](https://pypi.org/project/tweet-requester/)\n",
    "* [pandas](https://pandas.pydata.org/docs/)\n",
    "* [sqlite3](https://docs.python.org/3/library/sqlite3.html)\n",
    "* [matplotlib](https://matplotlib.org/)\n",
    "\n",
    "If there are special instructions for acquiring any of the necessary tools, please explain those steps here.\n",
    "\n",
    "1. Go to the Tool1 website.\n",
    "2. Create an account. (required)\n",
    "3. Go to the \"Download\" page and follow instructions.\n"
   ]
  },
  {
   "cell_type": "markdown",
   "metadata": {},
   "source": [
    "# Acquiring or Accessing the Data\n",
    "Please write instructions here that show users how to obtain the research data, or let them know that it is packaged with your notebooks in Github. Does the student or user need additional permissions or accounts in order to obtain the data. If the data is downloaded separately, how should they save the data locally.\n",
    "In some cases the data may be available from a web API. If so, then what steps are needed in order to access that API?\n"
   ]
  },
  {
   "cell_type": "markdown",
   "metadata": {},
   "source": [
    "# Notebooks\n",
    "1. [Capturing Multimedia and Tweets with RDF](./crosswalk.ipynb)\n",
    "1. [Twarc Tutorial](./twarc.ipynb)\n",
    "1. [Evaluating Tweets](./Evaluating_Content.ipynb) \n",
    "1. [Identifying Popular Multimedia](./Media_Rating.ipynb) **TODO, Code is ready but is not presentable**"
   ]
  },
  {
   "cell_type": "code",
   "execution_count": null,
   "metadata": {},
   "outputs": [],
   "source": []
  }
 ],
 "metadata": {
  "cases_info": {
   "computational_practices": [
    "cas:dp_collecting_data",
    "cas:dp_creating_data"
   ]
  },
  "kernelspec": {
   "display_name": "Python 3",
   "language": "python",
   "name": "python3"
  },
  "language_info": {
   "codemirror_mode": {
    "name": "ipython",
    "version": 3
   },
   "file_extension": ".py",
   "mimetype": "text/x-python",
   "name": "python",
   "nbconvert_exporter": "python",
   "pygments_lexer": "ipython3",
   "version": "3.8.10"
  }
 },
 "nbformat": 4,
 "nbformat_minor": 4
}
