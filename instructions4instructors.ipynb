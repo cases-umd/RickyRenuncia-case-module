{
 "cells": [
  {
   "cell_type": "markdown",
   "metadata": {},
   "source": [
    "# How to use the RickyRenuncia Project CASES\n",
    "\n",
    "## Essential Context\n",
    "The RickyRenuncia Project's main objective is to preserve digital materials (video, audio, images, news, tweets, among others) related to the resignation of the Governor of Puerto Rico, Ricardo Rosselló. The RickyRenuncia Project created three case studies using Twitter data to share with Information Sciences students and educators alike the challenges and opportunities we have encountered while working on our project. The examples highlight our approach and tools used to capture, curate, and standardize social media data for long-term curation.\n",
    "\n",
    "## List of Case Studies\n",
    "- *Capturing Twitter data* by Joel Blanco: This notebook uses the #RickyRenuncia dataset to guide students through the process of capturing Twitter data using Twarc. It includes information about exporting the dataset to GeoJSON format and generating reports and visualizations using Twarc-report. It also provides information about version 2 of Twarc and how to use it with Twitter version 2 API. \n",
    "\n",
    "- *Multimedia Rating an Approach to Curation* by Eduardo Beltran: This notebook accesses a subset from the prehydrated sample offered to the participants to construct rankings due to multiple public metrics available in the Twitter API. It is currently working on top of API v1.1 as the v2 API has inconsistencies that have changed over the past 4 months in the delivery of this information. This notebook also proposes an interactive curation method to filter out any unwanted or unrelated documents directly from the Jupyter notebooks interface, as reused memes without direct artistic relevance to the incident are reused within the captured dataset. \n",
    "\n",
    "- *Mapping Twitter data to a Social Media Posting compliant RDF* by Irmarie Fraticelli: This Jupyter Notebook has as an objective to introduce students to RDF and Schema.org—collaborative community activity with a mission to create, maintain, and promote schemas for structured data on the online and/or electronic format. The notebook will show how to map Twitter data to a Social Media Posting compliant RDF. The notebook also presents mechanisms to insert data to a Content Management System (CMS), such as Omeka-S for long-term preservation.\n",
    "\n",
    "## Instructions for instructors on how to use the RickyRenuncia Project CASES\n",
    "- You can teach all or one of the three cases depending of the objectives of your course\n",
    "- Make sure that you follow the recommendations to download and/or register to the tools listed in each case for the best learning experience\n",
    "- Each case study includes activities and guided questions that the students can use to test their understanding of the data and the tools to analyze them\n",
    "- The exercises, tools, and techniques discuss in each case study can be adapted to any Twitter dataset"
   ]
  },
  {
   "cell_type": "code",
   "execution_count": null,
   "metadata": {},
   "outputs": [],
   "source": []
  }
 ],
 "metadata": {
  "kernelspec": {
   "display_name": "Python 3",
   "language": "python",
   "name": "python3"
  },
  "language_info": {
   "codemirror_mode": {
    "name": "ipython",
    "version": 3
   },
   "file_extension": ".py",
   "mimetype": "text/x-python",
   "name": "python",
   "nbconvert_exporter": "python",
   "pygments_lexer": "ipython3",
   "version": "3.8.10"
  }
 },
 "nbformat": 4,
 "nbformat_minor": 4
}
